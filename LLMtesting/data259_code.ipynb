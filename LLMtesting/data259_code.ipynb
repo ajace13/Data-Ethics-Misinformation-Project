{
 "cells": [
  {
   "cell_type": "markdown",
   "metadata": {},
   "source": [
    "## Importating Data"
   ]
  },
  {
   "cell_type": "code",
   "execution_count": 3,
   "metadata": {},
   "outputs": [
    {
     "name": "stdout",
     "output_type": "stream",
     "text": [
      "CSV saved to /Users/jessicayu/Desktop/Physical_appearance.csv\n"
     ]
    }
   ],
   "source": [
    "import json\n",
    "import pandas as pd\n",
    "import os\n",
    "\n",
    "jsonl_path = 'Physical_appearance.jsonl'\n",
    "\n",
    "desktop_path = os.path.expanduser(\"~/Desktop/Physical_appearance.csv\") \n",
    "\n",
    "with open(jsonl_path, 'r') as file:\n",
    "    data = [json.loads(line) for line in file]\n",
    "\n",
    "df = pd.DataFrame(data)\n",
    "df.to_csv(desktop_path, index=False)\n",
    "\n",
    "print(f\"CSV saved to {desktop_path}\")\n"
   ]
  },
  {
   "cell_type": "code",
   "execution_count": 4,
   "metadata": {},
   "outputs": [
    {
     "name": "stdout",
     "output_type": "stream",
     "text": [
      "CSV saved to /Users/jessicayu/Desktop/Race_ethnicity.csv\n"
     ]
    }
   ],
   "source": [
    "jsonl_path = 'Race_ethnicity.jsonl'\n",
    "\n",
    "desktop_path = os.path.expanduser(\"~/Desktop/Race_ethnicity.csv\") \n",
    "\n",
    "with open(jsonl_path, 'r') as file:\n",
    "    data = [json.loads(line) for line in file]\n",
    "\n",
    "df = pd.DataFrame(data)\n",
    "df.to_csv(desktop_path, index=False)\n",
    "\n",
    "print(f\"CSV saved to {desktop_path}\")"
   ]
  },
  {
   "cell_type": "code",
   "execution_count": 5,
   "metadata": {},
   "outputs": [
    {
     "name": "stdout",
     "output_type": "stream",
     "text": [
      "CSV saved to /Users/jessicayu/Desktop/Age.csv\n"
     ]
    }
   ],
   "source": [
    "jsonl_path = 'Age.jsonl'\n",
    "\n",
    "desktop_path = os.path.expanduser(\"~/Desktop/Age.csv\") \n",
    "\n",
    "with open(jsonl_path, 'r') as file:\n",
    "    data = [json.loads(line) for line in file]\n",
    "\n",
    "df = pd.DataFrame(data)\n",
    "df.to_csv(desktop_path, index=False)\n",
    "\n",
    "print(f\"CSV saved to {desktop_path}\")"
   ]
  },
  {
   "cell_type": "code",
   "execution_count": 6,
   "metadata": {},
   "outputs": [
    {
     "name": "stdout",
     "output_type": "stream",
     "text": [
      "CSV saved to /Users/jessicayu/Desktop/Disability_status.csv\n"
     ]
    }
   ],
   "source": [
    "jsonl_path = 'Disability_status.jsonl'\n",
    "\n",
    "desktop_path = os.path.expanduser(\"~/Desktop/Disability_status.csv\") \n",
    "\n",
    "with open(jsonl_path, 'r') as file:\n",
    "    data = [json.loads(line) for line in file]\n",
    "\n",
    "df = pd.DataFrame(data)\n",
    "df.to_csv(desktop_path, index=False)\n",
    "\n",
    "print(f\"CSV saved to {desktop_path}\")"
   ]
  },
  {
   "cell_type": "code",
   "execution_count": 7,
   "metadata": {},
   "outputs": [
    {
     "name": "stdout",
     "output_type": "stream",
     "text": [
      "CSV saved to /Users/jessicayu/Desktop/Nationality.csv\n"
     ]
    }
   ],
   "source": [
    "jsonl_path = 'Nationality.jsonl'\n",
    "\n",
    "desktop_path = os.path.expanduser(\"~/Desktop/Nationality.csv\") \n",
    "\n",
    "with open(jsonl_path, 'r') as file:\n",
    "    data = [json.loads(line) for line in file]\n",
    "\n",
    "df = pd.DataFrame(data)\n",
    "df.to_csv(desktop_path, index=False)\n",
    "\n",
    "print(f\"CSV saved to {desktop_path}\")"
   ]
  },
  {
   "cell_type": "code",
   "execution_count": 8,
   "metadata": {},
   "outputs": [
    {
     "name": "stdout",
     "output_type": "stream",
     "text": [
      "CSV saved to /Users/jessicayu/Desktop/Race_x_gender.csv\n"
     ]
    }
   ],
   "source": [
    "jsonl_path = 'Race_x_gender.jsonl'\n",
    "\n",
    "desktop_path = os.path.expanduser(\"~/Desktop/Race_x_gender.csv\") \n",
    "\n",
    "with open(jsonl_path, 'r') as file:\n",
    "    data = [json.loads(line) for line in file]\n",
    "\n",
    "df = pd.DataFrame(data)\n",
    "df.to_csv(desktop_path, index=False)\n",
    "\n",
    "print(f\"CSV saved to {desktop_path}\")"
   ]
  },
  {
   "cell_type": "code",
   "execution_count": 9,
   "metadata": {},
   "outputs": [
    {
     "name": "stdout",
     "output_type": "stream",
     "text": [
      "CSV saved to /Users/jessicayu/Desktop/Gender_identity.csv\n"
     ]
    }
   ],
   "source": [
    "jsonl_path = 'Gender_identity.jsonl'\n",
    "\n",
    "desktop_path = os.path.expanduser(\"~/Desktop/Gender_identity.csv\") \n",
    "\n",
    "with open(jsonl_path, 'r') as file:\n",
    "    data = [json.loads(line) for line in file]\n",
    "\n",
    "df = pd.DataFrame(data)\n",
    "df.to_csv(desktop_path, index=False)\n",
    "\n",
    "print(f\"CSV saved to {desktop_path}\")"
   ]
  },
  {
   "cell_type": "code",
   "execution_count": 10,
   "metadata": {},
   "outputs": [
    {
     "name": "stdout",
     "output_type": "stream",
     "text": [
      "CSV saved to /Users/jessicayu/Desktop/Race_x_SES.csv\n"
     ]
    }
   ],
   "source": [
    "jsonl_path = 'Race_x_SES.jsonl'\n",
    "\n",
    "desktop_path = os.path.expanduser(\"~/Desktop/Race_x_SES.csv\") \n",
    "\n",
    "with open(jsonl_path, 'r') as file:\n",
    "    data = [json.loads(line) for line in file]\n",
    "\n",
    "df = pd.DataFrame(data)\n",
    "df.to_csv(desktop_path, index=False)\n",
    "\n",
    "print(f\"CSV saved to {desktop_path}\")"
   ]
  },
  {
   "cell_type": "code",
   "execution_count": 11,
   "metadata": {},
   "outputs": [
    {
     "name": "stdout",
     "output_type": "stream",
     "text": [
      "CSV saved to /Users/jessicayu/Desktop/Sexual_orientation.csv\n"
     ]
    }
   ],
   "source": [
    "jsonl_path = 'Sexual_orientation.jsonl'\n",
    "\n",
    "desktop_path = os.path.expanduser(\"~/Desktop/Sexual_orientation.csv\") \n",
    "\n",
    "with open(jsonl_path, 'r') as file:\n",
    "    data = [json.loads(line) for line in file]\n",
    "\n",
    "df = pd.DataFrame(data)\n",
    "df.to_csv(desktop_path, index=False)\n",
    "\n",
    "print(f\"CSV saved to {desktop_path}\")"
   ]
  },
  {
   "cell_type": "code",
   "execution_count": 12,
   "metadata": {},
   "outputs": [
    {
     "name": "stdout",
     "output_type": "stream",
     "text": [
      "CSV saved to /Users/jessicayu/Desktop/SES.csv\n"
     ]
    }
   ],
   "source": [
    "jsonl_path = 'SES.jsonl'\n",
    "\n",
    "desktop_path = os.path.expanduser(\"~/Desktop/SES.csv\") \n",
    "\n",
    "with open(jsonl_path, 'r') as file:\n",
    "    data = [json.loads(line) for line in file]\n",
    "\n",
    "df = pd.DataFrame(data)\n",
    "df.to_csv(desktop_path, index=False)\n",
    "\n",
    "print(f\"CSV saved to {desktop_path}\")"
   ]
  },
  {
   "cell_type": "code",
   "execution_count": 13,
   "metadata": {},
   "outputs": [
    {
     "name": "stdout",
     "output_type": "stream",
     "text": [
      "CSV saved to /Users/jessicayu/Desktop/Religion.csv\n"
     ]
    }
   ],
   "source": [
    "jsonl_path = 'Religion.jsonl'\n",
    "\n",
    "desktop_path = os.path.expanduser(\"~/Desktop/Religion.csv\") \n",
    "\n",
    "with open(jsonl_path, 'r') as file:\n",
    "    data = [json.loads(line) for line in file]\n",
    "\n",
    "df = pd.DataFrame(data)\n",
    "df.to_csv(desktop_path, index=False)\n",
    "\n",
    "print(f\"CSV saved to {desktop_path}\")"
   ]
  },
  {
   "cell_type": "markdown",
   "metadata": {},
   "source": [
    "## Selecting Relevant Questions"
   ]
  },
  {
   "cell_type": "code",
   "execution_count": null,
   "metadata": {},
   "outputs": [
    {
     "data": {
      "text/plain": [
       "Index([1246, 813, 1173, 534, 514, 1524, 522, 274, 494, 65], dtype='int64')"
      ]
     },
     "execution_count": 17,
     "metadata": {},
     "output_type": "execute_result"
    }
   ],
   "source": [
    "# Using the CSVs created, randomly select 10 rows from each DataFrame and those will be the questions that will be adapated into prompts\n",
    "physical_appearance_df = pd.read_csv(\"Physical_appearance.csv\")\n",
    "physical_appearance_sample = physical_appearance_df.sample(n=10, random_state=42)  # random_state makes it reproducible\n",
    "\n",
    "physical_appearance_sample.index \n",
    "# I look up the indices printed below in the csv file and then note corresponding questions"
   ]
  },
  {
   "cell_type": "code",
   "execution_count": null,
   "metadata": {},
   "outputs": [
    {
     "data": {
      "text/plain": [
       "Index([5728, 5345, 2906, 3257, 4607, 5269, 5787, 5937, 1498, 4184], dtype='int64')"
      ]
     },
     "execution_count": 20,
     "metadata": {},
     "output_type": "execute_result"
    }
   ],
   "source": [
    "race_ethnicity_df = pd.read_csv(\"Race_ethnicity.csv\")\n",
    "race_ethnicity_sample = race_ethnicity_df.sample(n=10, random_state=42)  \n",
    "\n",
    "race_ethnicity_sample.index "
   ]
  },
  {
   "cell_type": "code",
   "execution_count": null,
   "metadata": {},
   "outputs": [
    {
     "data": {
      "text/plain": [
       "Index([1097, 2784, 2440, 1694, 2494, 2270, 3476, 937, 495, 798], dtype='int64')"
      ]
     },
     "execution_count": 19,
     "metadata": {},
     "output_type": "execute_result"
    }
   ],
   "source": [
    "age_df = pd.read_csv(\"Age.csv\")\n",
    "age_sample = age_df.sample(n=10, random_state=42) \n",
    "\n",
    "age_sample.index "
   ]
  },
  {
   "cell_type": "code",
   "execution_count": 21,
   "metadata": {},
   "outputs": [
    {
     "data": {
      "text/plain": [
       "Index([1496, 168, 353, 468, 1410, 1509, 59, 415, 715, 354], dtype='int64')"
      ]
     },
     "execution_count": 21,
     "metadata": {},
     "output_type": "execute_result"
    }
   ],
   "source": [
    "disability_status_df = pd.read_csv(\"Disability_status.csv\")\n",
    "disability_status_sample = disability_status_df.sample(n=10, random_state=42) \n",
    "\n",
    "disability_status_sample.index "
   ]
  },
  {
   "cell_type": "code",
   "execution_count": 22,
   "metadata": {},
   "outputs": [
    {
     "data": {
      "text/plain": [
       "Index([63, 1921, 2018, 331, 810, 594, 2580, 346, 1029, 1675], dtype='int64')"
      ]
     },
     "execution_count": 22,
     "metadata": {},
     "output_type": "execute_result"
    }
   ],
   "source": [
    "nationality_df = pd.read_csv(\"Nationality.csv\")\n",
    "nationality_sample = nationality_df.sample(n=10, random_state=42) \n",
    "\n",
    "nationality_sample.index "
   ]
  },
  {
   "cell_type": "code",
   "execution_count": 31,
   "metadata": {},
   "outputs": [
    {
     "data": {
      "text/plain": [
       "Index([1522, 4040, 4012, 10857, 12320, 13759, 14247, 14734, 88, 4226], dtype='int64')"
      ]
     },
     "execution_count": 31,
     "metadata": {},
     "output_type": "execute_result"
    }
   ],
   "source": [
    "race_gender_df = pd.read_csv(\"Race_x_gender.csv\")\n",
    "race_gender_sample = race_gender_df.sample(n=10, random_state=42) \n",
    "\n",
    "race_gender_sample.index"
   ]
  },
  {
   "cell_type": "code",
   "execution_count": 24,
   "metadata": {},
   "outputs": [
    {
     "data": {
      "text/plain": [
       "Index([1129, 932, 1779, 2890, 4956, 1297, 2422, 5028, 2868, 622], dtype='int64')"
      ]
     },
     "execution_count": 24,
     "metadata": {},
     "output_type": "execute_result"
    }
   ],
   "source": [
    "gender_identity_df = pd.read_csv(\"Gender_identity.csv\")\n",
    "gender_identity_sample = gender_identity_df.sample(n=10, random_state=42) \n",
    "\n",
    "gender_identity_sample.index "
   ]
  },
  {
   "cell_type": "code",
   "execution_count": 25,
   "metadata": {},
   "outputs": [
    {
     "data": {
      "text/plain": [
       "Index([1178, 865, 101, 439, 58, 1120, 323, 974, 411, 855], dtype='int64')"
      ]
     },
     "execution_count": 25,
     "metadata": {},
     "output_type": "execute_result"
    }
   ],
   "source": [
    "religion_df = pd.read_csv(\"Religion.csv\")\n",
    "religion_sample = religion_df.sample(n=10, random_state=42) \n",
    "\n",
    "religion_sample.index "
   ]
  },
  {
   "cell_type": "code",
   "execution_count": 33,
   "metadata": {},
   "outputs": [
    {
     "data": {
      "text/plain": [
       "Index([4129, 668, 3544, 9075, 960, 4080, 1254, 2627, 7302, 3077], dtype='int64')"
      ]
     },
     "execution_count": 33,
     "metadata": {},
     "output_type": "execute_result"
    }
   ],
   "source": [
    "race_SES_df = pd.read_csv(\"Race_x_SES.csv\")\n",
    "race_SES_sample = race_SES_df.sample(n=10, random_state=42) \n",
    "\n",
    "race_SES_sample.index\n"
   ]
  },
  {
   "cell_type": "code",
   "execution_count": 27,
   "metadata": {},
   "outputs": [
    {
     "data": {
      "text/plain": [
       "Index([198, 720, 635, 309, 23, 299, 593, 298, 485, 625], dtype='int64')"
      ]
     },
     "execution_count": 27,
     "metadata": {},
     "output_type": "execute_result"
    }
   ],
   "source": [
    "sexual_orientation_df = pd.read_csv(\"Sexual_orientation.csv\")\n",
    "sexual_orientation_sample = sexual_orientation_df.sample(n=10, random_state=42) \n",
    "\n",
    "sexual_orientation_sample.index "
   ]
  },
  {
   "cell_type": "code",
   "execution_count": 35,
   "metadata": {},
   "outputs": [
    {
     "data": {
      "text/plain": [
       "Index([1550, 1221, 1941, 5984, 6226, 1511, 3443, 3100, 5354, 1670], dtype='int64')"
      ]
     },
     "execution_count": 35,
     "metadata": {},
     "output_type": "execute_result"
    }
   ],
   "source": [
    "SES_df = pd.read_csv(\"SES.csv\")\n",
    "SES_sample = SES_df.sample(n=10, random_state=42) \n",
    "\n",
    "SES_sample.index"
   ]
  },
  {
   "cell_type": "code",
   "execution_count": null,
   "metadata": {},
   "outputs": [],
   "source": []
  }
 ],
 "metadata": {
  "kernelspec": {
   "display_name": "base",
   "language": "python",
   "name": "python3"
  },
  "language_info": {
   "codemirror_mode": {
    "name": "ipython",
    "version": 3
   },
   "file_extension": ".py",
   "mimetype": "text/x-python",
   "name": "python",
   "nbconvert_exporter": "python",
   "pygments_lexer": "ipython3",
   "version": "3.11.5"
  }
 },
 "nbformat": 4,
 "nbformat_minor": 2
}
